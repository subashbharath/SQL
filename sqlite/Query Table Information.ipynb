{
 "cells": [
  {
   "cell_type": "markdown",
   "metadata": {},
   "source": [
    "# ex02-Query Table Information\n",
    "\n",
    "This notebook will show how to query the number of tables and a table'columns given a database using the powerful **SELECT**."
   ]
  },
  {
   "cell_type": "code",
   "execution_count": 1,
   "metadata": {},
   "outputs": [],
   "source": [
    "%load_ext sql"
   ]
  },
  {
   "cell_type": "markdown",
   "metadata": {},
   "source": [
    "### Connet to the given database of demo.db3"
   ]
  },
  {
   "cell_type": "code",
   "execution_count": 2,
   "metadata": {},
   "outputs": [
    {
     "data": {
      "text/plain": [
       "u'Connected: @data/demo.db3'"
      ]
     },
     "execution_count": 2,
     "metadata": {},
     "output_type": "execute_result"
    }
   ],
   "source": [
    "%sql sqlite:///data/demo.db3"
   ]
  },
  {
   "cell_type": "markdown",
   "metadata": {},
   "source": [
    "### List  tables in a database\n",
    "\n",
    "Table and index names can be list by doing a **SELECT** on a special table named \"***SQLITE_MASTER***\". Every SQLite database has an SQLITE_MASTER table that defines the schema for the database. For tables, the ***type*** field will always be '***table***' and the name field will be the name of the table. So to get a list of all tables in the database, use the following SELECT command:\n",
    "\n",
    "See more at https://www.sqlite.org/faq.html#q7."
   ]
  },
  {
   "cell_type": "code",
   "execution_count": 3,
   "metadata": {},
   "outputs": [
    {
     "name": "stdout",
     "output_type": "stream",
     "text": [
      " * sqlite:///data/demo.db3\n",
      "Done.\n"
     ]
    },
    {
     "data": {
      "text/html": [
       "<table>\n",
       "    <tr>\n",
       "        <th>name</th>\n",
       "    </tr>\n",
       "    <tr>\n",
       "        <td>rch</td>\n",
       "    </tr>\n",
       "    <tr>\n",
       "        <td>hru</td>\n",
       "    </tr>\n",
       "    <tr>\n",
       "        <td>sub</td>\n",
       "    </tr>\n",
       "    <tr>\n",
       "        <td>sed</td>\n",
       "    </tr>\n",
       "    <tr>\n",
       "        <td>watershed_daily</td>\n",
       "    </tr>\n",
       "    <tr>\n",
       "        <td>watershed_monthly</td>\n",
       "    </tr>\n",
       "    <tr>\n",
       "        <td>watershed_yearly</td>\n",
       "    </tr>\n",
       "    <tr>\n",
       "        <td>channel_dimension</td>\n",
       "    </tr>\n",
       "    <tr>\n",
       "        <td>hru_info</td>\n",
       "    </tr>\n",
       "    <tr>\n",
       "        <td>sub_info</td>\n",
       "    </tr>\n",
       "    <tr>\n",
       "        <td>rch_info</td>\n",
       "    </tr>\n",
       "    <tr>\n",
       "        <td>ave_plant</td>\n",
       "    </tr>\n",
       "    <tr>\n",
       "        <td>ave_annual_hru</td>\n",
       "    </tr>\n",
       "    <tr>\n",
       "        <td>ave_monthly_basin</td>\n",
       "    </tr>\n",
       "    <tr>\n",
       "        <td>ave_annual_basin</td>\n",
       "    </tr>\n",
       "</table>"
      ],
      "text/plain": [
       "[(u'rch',),\n",
       " (u'hru',),\n",
       " (u'sub',),\n",
       " (u'sed',),\n",
       " (u'watershed_daily',),\n",
       " (u'watershed_monthly',),\n",
       " (u'watershed_yearly',),\n",
       " (u'channel_dimension',),\n",
       " (u'hru_info',),\n",
       " (u'sub_info',),\n",
       " (u'rch_info',),\n",
       " (u'ave_plant',),\n",
       " (u'ave_annual_hru',),\n",
       " (u'ave_monthly_basin',),\n",
       " (u'ave_annual_basin',)]"
      ]
     },
     "execution_count": 3,
     "metadata": {},
     "output_type": "execute_result"
    }
   ],
   "source": [
    "%sql SELECT name FROM sqlite_master WHERE type='table'"
   ]
  },
  {
   "cell_type": "markdown",
   "metadata": {},
   "source": [
    "### List columns in a table\n",
    "\n",
    "We take the table of rch as an example"
   ]
  },
  {
   "cell_type": "code",
   "execution_count": 4,
   "metadata": {},
   "outputs": [
    {
     "name": "stdout",
     "output_type": "stream",
     "text": [
      " * sqlite:///data/demo.db3\n",
      "Done.\n"
     ]
    },
    {
     "data": {
      "text/html": [
       "<table>\n",
       "    <tr>\n",
       "        <th>RCH</th>\n",
       "        <th>YR</th>\n",
       "        <th>MO</th>\n",
       "        <th>FLOW_INcms</th>\n",
       "        <th>FLOW_OUTcms</th>\n",
       "        <th>EVAPcms</th>\n",
       "        <th>TLOSScms</th>\n",
       "        <th>SED_INtons</th>\n",
       "        <th>SED_OUTtons</th>\n",
       "        <th>SEDCONCmg_kg</th>\n",
       "        <th>ORGN_INkg</th>\n",
       "        <th>ORGN_OUTkg</th>\n",
       "        <th>ORGP_INkg</th>\n",
       "        <th>ORGP_OUTkg</th>\n",
       "        <th>NO3_INkg</th>\n",
       "        <th>NO3_OUTkg</th>\n",
       "        <th>NH4_INkg</th>\n",
       "        <th>NH4_OUTkg</th>\n",
       "        <th>NO2_INkg</th>\n",
       "        <th>NO2_OUTkg</th>\n",
       "        <th>MINP_INkg</th>\n",
       "        <th>MINP_OUTkg</th>\n",
       "        <th>CHLA_INkg</th>\n",
       "        <th>CHLA_OUTkg</th>\n",
       "        <th>CBOD_INkg</th>\n",
       "        <th>CBOD_OUTkg</th>\n",
       "        <th>DISOX_INkg</th>\n",
       "        <th>DISOX_OUTkg</th>\n",
       "        <th>SOLPST_INmg</th>\n",
       "        <th>SOLPST_OUTmg</th>\n",
       "        <th>SORPST_INmg</th>\n",
       "        <th>SORPST_OUTmg</th>\n",
       "        <th>REACTPSTmg</th>\n",
       "        <th>VOLPSTmg</th>\n",
       "        <th>SETTLPSTmg</th>\n",
       "        <th>RESUSP_PSTmg</th>\n",
       "        <th>DIFFUSEPSTmg</th>\n",
       "        <th>REACBEDPSTmg</th>\n",
       "        <th>BURYPSTmg</th>\n",
       "        <th>BED_PSTmg</th>\n",
       "        <th>BACTP_OUTct</th>\n",
       "        <th>BACTLP_OUTct</th>\n",
       "        <th>CMETAL_1kg</th>\n",
       "        <th>CMETAL_2kg</th>\n",
       "        <th>CMETAL_3kg</th>\n",
       "        <th>TOT_Nkg</th>\n",
       "        <th>TOT_Pkg</th>\n",
       "        <th>NO3ConcMg_l</th>\n",
       "        <th>WTMPdegc</th>\n",
       "    </tr>\n",
       "</table>"
      ],
      "text/plain": [
       "[]"
      ]
     },
     "execution_count": 4,
     "metadata": {},
     "output_type": "execute_result"
    }
   ],
   "source": [
    "%sql select * from rch where 1=0"
   ]
  },
  {
   "cell_type": "markdown",
   "metadata": {},
   "source": [
    "#### :) We get the table information just using SELECT * with key work of LIMIT\n",
    "\n",
    "You can try to change the limit number to 1, 2 to check the results."
   ]
  },
  {
   "cell_type": "code",
   "execution_count": 5,
   "metadata": {},
   "outputs": [
    {
     "name": "stdout",
     "output_type": "stream",
     "text": [
      " * sqlite:///data/demo.db3\n",
      "Done.\n"
     ]
    },
    {
     "data": {
      "text/html": [
       "<table>\n",
       "    <tr>\n",
       "        <th>RCH</th>\n",
       "        <th>YR</th>\n",
       "        <th>MO</th>\n",
       "        <th>FLOW_INcms</th>\n",
       "        <th>FLOW_OUTcms</th>\n",
       "        <th>EVAPcms</th>\n",
       "        <th>TLOSScms</th>\n",
       "        <th>SED_INtons</th>\n",
       "        <th>SED_OUTtons</th>\n",
       "        <th>SEDCONCmg_kg</th>\n",
       "        <th>ORGN_INkg</th>\n",
       "        <th>ORGN_OUTkg</th>\n",
       "        <th>ORGP_INkg</th>\n",
       "        <th>ORGP_OUTkg</th>\n",
       "        <th>NO3_INkg</th>\n",
       "        <th>NO3_OUTkg</th>\n",
       "        <th>NH4_INkg</th>\n",
       "        <th>NH4_OUTkg</th>\n",
       "        <th>NO2_INkg</th>\n",
       "        <th>NO2_OUTkg</th>\n",
       "        <th>MINP_INkg</th>\n",
       "        <th>MINP_OUTkg</th>\n",
       "        <th>CHLA_INkg</th>\n",
       "        <th>CHLA_OUTkg</th>\n",
       "        <th>CBOD_INkg</th>\n",
       "        <th>CBOD_OUTkg</th>\n",
       "        <th>DISOX_INkg</th>\n",
       "        <th>DISOX_OUTkg</th>\n",
       "        <th>SOLPST_INmg</th>\n",
       "        <th>SOLPST_OUTmg</th>\n",
       "        <th>SORPST_INmg</th>\n",
       "        <th>SORPST_OUTmg</th>\n",
       "        <th>REACTPSTmg</th>\n",
       "        <th>VOLPSTmg</th>\n",
       "        <th>SETTLPSTmg</th>\n",
       "        <th>RESUSP_PSTmg</th>\n",
       "        <th>DIFFUSEPSTmg</th>\n",
       "        <th>REACBEDPSTmg</th>\n",
       "        <th>BURYPSTmg</th>\n",
       "        <th>BED_PSTmg</th>\n",
       "        <th>BACTP_OUTct</th>\n",
       "        <th>BACTLP_OUTct</th>\n",
       "        <th>CMETAL_1kg</th>\n",
       "        <th>CMETAL_2kg</th>\n",
       "        <th>CMETAL_3kg</th>\n",
       "        <th>TOT_Nkg</th>\n",
       "        <th>TOT_Pkg</th>\n",
       "        <th>NO3ConcMg_l</th>\n",
       "        <th>WTMPdegc</th>\n",
       "    </tr>\n",
       "</table>"
      ],
      "text/plain": [
       "[]"
      ]
     },
     "execution_count": 5,
     "metadata": {},
     "output_type": "execute_result"
    }
   ],
   "source": [
    "%sql select * from rch LIMIT 0"
   ]
  },
  {
   "cell_type": "markdown",
   "metadata": {},
   "source": [
    "#### Or directly use selet *\n",
    "\n",
    "***Warning***! This table contains too many records. It'd better not query all of them."
   ]
  },
  {
   "cell_type": "code",
   "execution_count": null,
   "metadata": {},
   "outputs": [],
   "source": [
    "%sql select * from rch"
   ]
  },
  {
   "cell_type": "code",
   "execution_count": null,
   "metadata": {},
   "outputs": [],
   "source": []
  }
 ],
 "metadata": {
  "kernelspec": {
   "display_name": "Python [conda root]",
   "language": "python",
   "name": "conda-root-py"
  },
  "language_info": {
   "codemirror_mode": {
    "name": "ipython",
    "version": 2
   },
   "file_extension": ".py",
   "mimetype": "text/x-python",
   "name": "python",
   "nbconvert_exporter": "python",
   "pygments_lexer": "ipython2",
   "version": "2.7.12"
  }
 },
 "nbformat": 4,
 "nbformat_minor": 2
}
