{
 "cells": [
  {
   "cell_type": "markdown",
   "metadata": {},
   "source": [
    "## ex10-Using Views to Simplify Queries\n",
    "\n",
    "\n",
    "One of the beautiful aspects of the relational data model and SQL is that the output of a query is also a table, a relation to be precise. It may consist of a single column or a single row, but it is a table nonetheless. A view is a query that can be used like a table. A view can be considered as a virtual table that does not hold data. They just hold a query. Every time a view is accessed, the query underlying it is run and the returned results can be used as though they made up an actual table.\n",
    "\n",
    "There are [several reasons](http://www.sqlitetutorial.net/sqlite-create-view/) for using veiws. I think the utmost reason is we are lazy and we do not want to write the same complicated long query sentences every time. :) I am kidding. However, keep in mind the DRY programming principle: Don’t Repeat Yourself. Avoiding repetition saves time and prevents unnecessary mistakes. This is one of right reasons that we save queries as reusable database views.\n",
    "\n",
    "SQLite views are created using the CREATE VIEW statement. SQLite views can be created from a single table, multiple tables, or another view. Following is the basic [CREATE VIEW syntax](http://www.sqlitetutorial.net/sqlite-create-view/):\n",
    ">CREATE [TEMP | TEMPORARY] VIEW view_name AS<br>\n",
    ">SELECT column1, column2.....<br>\n",
    ">FROM table_name<br>\n",
    ">WHERE [condition];\n",
    "\n",
    "SQLite view is read only. It means you cannot use INSERT, DELETE, and UPDATE statement to update data in the base tables through the view."
   ]
  },
  {
   "cell_type": "code",
   "execution_count": 1,
   "metadata": {},
   "outputs": [],
   "source": [
    "%load_ext sql"
   ]
  },
  {
   "cell_type": "markdown",
   "metadata": {},
   "source": [
    "### 1. Connet to the given database of demo.db3"
   ]
  },
  {
   "cell_type": "code",
   "execution_count": 2,
   "metadata": {},
   "outputs": [
    {
     "data": {
      "text/plain": [
       "u'Connected: @data/demo.db3'"
      ]
     },
     "execution_count": 2,
     "metadata": {},
     "output_type": "execute_result"
    }
   ],
   "source": [
    "%sql sqlite:///data/demo.db3"
   ]
  },
  {
   "cell_type": "markdown",
   "metadata": {},
   "source": [
    "If you do not remember the tables in the demo data, you can always use the following command to query."
   ]
  },
  {
   "cell_type": "code",
   "execution_count": 3,
   "metadata": {},
   "outputs": [
    {
     "name": "stdout",
     "output_type": "stream",
     "text": [
      " * sqlite:///data/demo.db3\n",
      "Done.\n"
     ]
    },
    {
     "data": {
      "text/html": [
       "<table>\n",
       "    <tr>\n",
       "        <th>name</th>\n",
       "    </tr>\n",
       "    <tr>\n",
       "        <td>rch</td>\n",
       "    </tr>\n",
       "    <tr>\n",
       "        <td>hru</td>\n",
       "    </tr>\n",
       "    <tr>\n",
       "        <td>sub</td>\n",
       "    </tr>\n",
       "    <tr>\n",
       "        <td>sed</td>\n",
       "    </tr>\n",
       "    <tr>\n",
       "        <td>watershed_daily</td>\n",
       "    </tr>\n",
       "    <tr>\n",
       "        <td>watershed_monthly</td>\n",
       "    </tr>\n",
       "    <tr>\n",
       "        <td>watershed_yearly</td>\n",
       "    </tr>\n",
       "    <tr>\n",
       "        <td>channel_dimension</td>\n",
       "    </tr>\n",
       "    <tr>\n",
       "        <td>hru_info</td>\n",
       "    </tr>\n",
       "    <tr>\n",
       "        <td>sub_info</td>\n",
       "    </tr>\n",
       "    <tr>\n",
       "        <td>rch_info</td>\n",
       "    </tr>\n",
       "    <tr>\n",
       "        <td>ave_plant</td>\n",
       "    </tr>\n",
       "    <tr>\n",
       "        <td>ave_annual_hru</td>\n",
       "    </tr>\n",
       "    <tr>\n",
       "        <td>ave_monthly_basin</td>\n",
       "    </tr>\n",
       "    <tr>\n",
       "        <td>ave_annual_basin</td>\n",
       "    </tr>\n",
       "    <tr>\n",
       "        <td>sqlite_sequence</td>\n",
       "    </tr>\n",
       "    <tr>\n",
       "        <td>watershed_yearly_bk</td>\n",
       "    </tr>\n",
       "</table>"
      ],
      "text/plain": [
       "[(u'rch',),\n",
       " (u'hru',),\n",
       " (u'sub',),\n",
       " (u'sed',),\n",
       " (u'watershed_daily',),\n",
       " (u'watershed_monthly',),\n",
       " (u'watershed_yearly',),\n",
       " (u'channel_dimension',),\n",
       " (u'hru_info',),\n",
       " (u'sub_info',),\n",
       " (u'rch_info',),\n",
       " (u'ave_plant',),\n",
       " (u'ave_annual_hru',),\n",
       " (u'ave_monthly_basin',),\n",
       " (u'ave_annual_basin',),\n",
       " (u'sqlite_sequence',),\n",
       " (u'watershed_yearly_bk',)]"
      ]
     },
     "execution_count": 3,
     "metadata": {},
     "output_type": "execute_result"
    }
   ],
   "source": [
    "%sql SELECT name FROM sqlite_master WHERE type='table'"
   ]
  },
  {
   "cell_type": "markdown",
   "metadata": {},
   "source": [
    "### 2. Simplifying queries with views\n",
    "\n",
    "In the previous notebook, we used CASE and Subquery to calculate seasonal runoff from the table of rch. Here we use a view to simplify the calculation.\n",
    "\n",
    "#### 2.1 Have a recall of how to calculate season runoffs "
   ]
  },
  {
   "cell_type": "code",
   "execution_count": 4,
   "metadata": {},
   "outputs": [
    {
     "name": "stdout",
     "output_type": "stream",
     "text": [
      "Done.\n"
     ]
    },
    {
     "data": {
      "text/html": [
       "<table>\n",
       "    <tr>\n",
       "        <th>RCH</th>\n",
       "        <th>Quarter</th>\n",
       "        <th>Runoff</th>\n",
       "    </tr>\n",
       "    <tr>\n",
       "        <td>1</td>\n",
       "        <td>DJF</td>\n",
       "        <td>99.2049905353</td>\n",
       "    </tr>\n",
       "    <tr>\n",
       "        <td>1</td>\n",
       "        <td>JJA</td>\n",
       "        <td>1405.26229799</td>\n",
       "    </tr>\n",
       "    <tr>\n",
       "        <td>1</td>\n",
       "        <td>MAM</td>\n",
       "        <td>559.746932019</td>\n",
       "    </tr>\n",
       "    <tr>\n",
       "        <td>1</td>\n",
       "        <td>SON</td>\n",
       "        <td>454.737985314</td>\n",
       "    </tr>\n",
       "    <tr>\n",
       "        <td>2</td>\n",
       "        <td>DJF</td>\n",
       "        <td>56.3285390854</td>\n",
       "    </tr>\n",
       "</table>"
      ],
      "text/plain": [
       "[(1, u'DJF', 99.20499053531223),\n",
       " (1, u'JJA', 1405.262297990587),\n",
       " (1, u'MAM', 559.7469320191277),\n",
       " (1, u'SON', 454.73798531426326),\n",
       " (2, u'DJF', 56.328539085388186)]"
      ]
     },
     "execution_count": 4,
     "metadata": {},
     "output_type": "execute_result"
    }
   ],
   "source": [
    "%%sql sqlite://\n",
    "SELECT RCH, Quarter, AVG(FLOW_OUTcms) as Runoff\n",
    "FROM(\n",
    "SELECT RCH, YR, \n",
    "CASE \n",
    "    WHEN (MO) BETWEEN 3 AND 5 THEN 'MAM'   \n",
    "    WHEN (MO) BETWEEN 6 and 8 THEN 'JJA'\n",
    "    WHEN (MO) BETWEEN 9 and 11 THEN 'SON'\n",
    "    ELSE 'DJF' \n",
    "END Quarter,\n",
    "FLOW_OUTcms\n",
    "from rch)\n",
    "GROUP BY RCH, Quarter\n",
    "LIMIT 5"
   ]
  },
  {
   "cell_type": "markdown",
   "metadata": {},
   "source": [
    "#### 2.2 Creating a view"
   ]
  },
  {
   "cell_type": "code",
   "execution_count": 5,
   "metadata": {},
   "outputs": [
    {
     "name": "stdout",
     "output_type": "stream",
     "text": [
      "Done.\n"
     ]
    },
    {
     "data": {
      "text/plain": [
       "[]"
      ]
     },
     "execution_count": 5,
     "metadata": {},
     "output_type": "execute_result"
    }
   ],
   "source": [
    "%%sql sqlite://\n",
    "CREATE VIEW RCH_VW AS SELECT RCH, YR, \n",
    "CASE \n",
    "    WHEN (MO) BETWEEN 3 AND 5 THEN 'MAM'   \n",
    "    WHEN (MO) BETWEEN 6 and 8 THEN 'JJA'\n",
    "    WHEN (MO) BETWEEN 9 and 11 THEN 'SON'\n",
    "    ELSE 'DJF' \n",
    "END Quarter,\n",
    "FLOW_OUTcms\n",
    "from rch"
   ]
  },
  {
   "cell_type": "markdown",
   "metadata": {},
   "source": [
    "Let's query the SSN_RCH view"
   ]
  },
  {
   "cell_type": "code",
   "execution_count": 6,
   "metadata": {},
   "outputs": [
    {
     "name": "stdout",
     "output_type": "stream",
     "text": [
      "Done.\n"
     ]
    },
    {
     "data": {
      "text/html": [
       "<table>\n",
       "    <tr>\n",
       "        <th>RCH</th>\n",
       "        <th>YR</th>\n",
       "        <th>Quarter</th>\n",
       "        <th>FLOW_OUTcms</th>\n",
       "    </tr>\n",
       "    <tr>\n",
       "        <td>1</td>\n",
       "        <td>1981</td>\n",
       "        <td>DJF</td>\n",
       "        <td>146.252487183</td>\n",
       "    </tr>\n",
       "    <tr>\n",
       "        <td>2</td>\n",
       "        <td>1981</td>\n",
       "        <td>DJF</td>\n",
       "        <td>96.1828536987</td>\n",
       "    </tr>\n",
       "    <tr>\n",
       "        <td>3</td>\n",
       "        <td>1981</td>\n",
       "        <td>DJF</td>\n",
       "        <td>11.8613681793</td>\n",
       "    </tr>\n",
       "    <tr>\n",
       "        <td>4</td>\n",
       "        <td>1981</td>\n",
       "        <td>DJF</td>\n",
       "        <td>49.4065132141</td>\n",
       "    </tr>\n",
       "    <tr>\n",
       "        <td>5</td>\n",
       "        <td>1981</td>\n",
       "        <td>DJF</td>\n",
       "        <td>272.106018066</td>\n",
       "    </tr>\n",
       "</table>"
      ],
      "text/plain": [
       "[(1, 1981, u'DJF', 146.2524871826172),\n",
       " (2, 1981, u'DJF', 96.18285369873047),\n",
       " (3, 1981, u'DJF', 11.861368179321289),\n",
       " (4, 1981, u'DJF', 49.40651321411133),\n",
       " (5, 1981, u'DJF', 272.10601806640625)]"
      ]
     },
     "execution_count": 6,
     "metadata": {},
     "output_type": "execute_result"
    }
   ],
   "source": [
    "%%sql sqlite://\n",
    "SELECT * \n",
    "FROM RCH_VW \n",
    "LIMIT 5"
   ]
  },
  {
   "cell_type": "markdown",
   "metadata": {},
   "source": [
    "### 2.3 Recalculate seasonal runoffs with views\n",
    "\n",
    ":) The codes really really get shorter."
   ]
  },
  {
   "cell_type": "code",
   "execution_count": 7,
   "metadata": {},
   "outputs": [
    {
     "name": "stdout",
     "output_type": "stream",
     "text": [
      "Done.\n"
     ]
    },
    {
     "data": {
      "text/html": [
       "<table>\n",
       "    <tr>\n",
       "        <th>RCH</th>\n",
       "        <th>Quarter</th>\n",
       "        <th>Runoff</th>\n",
       "    </tr>\n",
       "    <tr>\n",
       "        <td>1</td>\n",
       "        <td>DJF</td>\n",
       "        <td>99.2049905353</td>\n",
       "    </tr>\n",
       "    <tr>\n",
       "        <td>1</td>\n",
       "        <td>JJA</td>\n",
       "        <td>1405.26229799</td>\n",
       "    </tr>\n",
       "    <tr>\n",
       "        <td>1</td>\n",
       "        <td>MAM</td>\n",
       "        <td>559.746932019</td>\n",
       "    </tr>\n",
       "    <tr>\n",
       "        <td>1</td>\n",
       "        <td>SON</td>\n",
       "        <td>454.737985314</td>\n",
       "    </tr>\n",
       "    <tr>\n",
       "        <td>2</td>\n",
       "        <td>DJF</td>\n",
       "        <td>56.3285390854</td>\n",
       "    </tr>\n",
       "</table>"
      ],
      "text/plain": [
       "[(1, u'DJF', 99.20499053531223),\n",
       " (1, u'JJA', 1405.262297990587),\n",
       " (1, u'MAM', 559.7469320191277),\n",
       " (1, u'SON', 454.73798531426326),\n",
       " (2, u'DJF', 56.328539085388186)]"
      ]
     },
     "execution_count": 7,
     "metadata": {},
     "output_type": "execute_result"
    }
   ],
   "source": [
    "%%sql sqlite://\n",
    "SELECT RCH, Quarter, AVG(FLOW_OUTcms) as Runoff\n",
    "FROM RCH_VW\n",
    "GROUP BY RCH, Quarter\n",
    "LIMIT 5"
   ]
  },
  {
   "cell_type": "markdown",
   "metadata": {},
   "source": [
    "### 2.4 Deleting Views\n",
    "\n",
    "It is quite easy to delete views. Just drop it like the following."
   ]
  },
  {
   "cell_type": "code",
   "execution_count": 8,
   "metadata": {},
   "outputs": [
    {
     "name": "stdout",
     "output_type": "stream",
     "text": [
      " * sqlite:///data/demo.db3\n",
      "Done.\n"
     ]
    },
    {
     "data": {
      "text/plain": [
       "[]"
      ]
     },
     "execution_count": 8,
     "metadata": {},
     "output_type": "execute_result"
    }
   ],
   "source": [
    "%sql DROP VIEW RCH_VW"
   ]
  },
  {
   "cell_type": "markdown",
   "metadata": {},
   "source": [
    "### Summary\n",
    "\n",
    "Views are virtual tables that do not hold data, only SQL statements. Those statements are executed each time the view is accessed. Because views are created dynamically as they are accessed and the data in those views are always fresh and up-to-date, they have some advantages over creating a subtables from a table. The data in subtables is static and could be out-to-date.\n",
    "\n",
    "A view is useful in some [cases](http://www.sqlitetutorial.net/sqlite-create-view/):\n",
    "- First, views provide an abstraction layer over tables. You can add and remove the columns in the view without touching the schema of the underlying tables.\n",
    "- Second, you can use views to encapsulate complex queries with joins to simplify the data access."
   ]
  },
  {
   "cell_type": "code",
   "execution_count": null,
   "metadata": {},
   "outputs": [],
   "source": []
  }
 ],
 "metadata": {
  "anaconda-cloud": {},
  "kernelspec": {
   "display_name": "Python [conda root]",
   "language": "python",
   "name": "conda-root-py"
  },
  "language_info": {
   "codemirror_mode": {
    "name": "ipython",
    "version": 2
   },
   "file_extension": ".py",
   "mimetype": "text/x-python",
   "name": "python",
   "nbconvert_exporter": "python",
   "pygments_lexer": "ipython2",
   "version": "2.7.12"
  }
 },
 "nbformat": 4,
 "nbformat_minor": 2
}
